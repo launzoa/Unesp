{
 "cells": [
  {
   "cell_type": "code",
   "execution_count": 18,
   "metadata": {},
   "outputs": [
    {
     "name": "stdout",
     "output_type": "stream",
     "text": [
      "8.5\n"
     ]
    }
   ],
   "source": [
    "'''\n",
    "1) Os alunos da disciplina de Programação Orientada a Objetos da FCT/Unesp\n",
    "desenvolverão dois trabalhos e duas provas ao longo do semestre. Considere que, nesse\n",
    "caso, a média final é calculada pela média aritmética simples de todas as notas e que o\n",
    "aluno é aprovado somente se obtiver média maior ou igual a cinco.\n",
    "O Aluno possui como informação o RA, Nome e as notas – a média é calculada a partir\n",
    "das notas e não precisa ser armazenada.\n",
    "'''\n",
    "\n",
    "class Fct:\n",
    "\n",
    "    def __init__(self, Dados_aluno: object):\n",
    "        self.aluno = Dados_aluno\n",
    "        self.__media__ = 0\n",
    "\n",
    "\n",
    "    @property\n",
    "    def media(self):\n",
    "        \n",
    "        for nota in self.aluno.notas:\n",
    "\n",
    "            self.__media__ += nota\n",
    "\n",
    "        return self.__media__/len(self.aluno.notas)\n",
    "    \n",
    "\n",
    "class Aluno:\n",
    "\n",
    "    def __init__(self, RA, Nome, Notas):\n",
    "        self.ra = RA\n",
    "        self.nome = Nome\n",
    "        self.notas = Notas\n",
    "\n",
    "\n",
    "aluno1 = Aluno(RA=23, Nome=\"Luã\", Notas=[7,8,9,10])\n",
    "media_aluno1 = Fct(aluno1)\n",
    "print(media_aluno1.media)"
   ]
  }
 ],
 "metadata": {
  "kernelspec": {
   "display_name": "Python 3",
   "language": "python",
   "name": "python3"
  },
  "language_info": {
   "codemirror_mode": {
    "name": "ipython",
    "version": 3
   },
   "file_extension": ".py",
   "mimetype": "text/x-python",
   "name": "python",
   "nbconvert_exporter": "python",
   "pygments_lexer": "ipython3",
   "version": "3.12.9"
  }
 },
 "nbformat": 4,
 "nbformat_minor": 2
}
