{
 "cells": [
  {
   "cell_type": "code",
   "execution_count": 4,
   "metadata": {},
   "outputs": [
    {
     "name": "stdout",
     "output_type": "stream",
     "text": [
      "O aluno é de maior.\n",
      "Mensalidade: R$ 120,00\n"
     ]
    }
   ],
   "source": [
    "'''\n",
    "2) Uma academia mantem registro de seus alunos armazenando nome, idade, peso e\n",
    "altura. A academia faz um desconto especial para menores de idade, portanto, é necessário\n",
    "saber distinguir entre um aluno maior e menor. Além disso, a academia também tem\n",
    "interesse em acompanhar o desempenho de seus alunos, por isso, ela também necessita\n",
    "conhecer o índice de massa corporal (IMC) deles, sendo que o IMC = peso / altura ^ 2.\n",
    "'''\n",
    "\n",
    "\n",
    "class Academia:\n",
    "\n",
    "    def __init__(self, aluno: object):\n",
    "        self.aluno = aluno\n",
    "    \n",
    "    def registro(self):\n",
    "        if self.desconto():\n",
    "            print(\"Como o aluno é menor de idade, ele recebe um desconto especial!\\nMensalidade: R$ 100,00\")\n",
    "        \n",
    "        else:\n",
    "            print(\"O aluno é de maior.\\nMensalidade: R$ 120,00\")\n",
    "    \n",
    "    \n",
    "    def desconto(self):\n",
    "        if(self.aluno.idade < 18):\n",
    "            return True\n",
    "        \n",
    "        else:\n",
    "            return False\n",
    "\n",
    "\n",
    "class Aluno:\n",
    "\n",
    "    def __init__(self, nome, idade, peso, altura):\n",
    "        self.nome = nome\n",
    "        self.idade = idade\n",
    "        self.peso = peso\n",
    "        self.altura = altura\n",
    "        self.imc = self.peso / pow(self.altura, 2)\n",
    "\n",
    "\n",
    "aluno1 = Aluno(\"Luã\", 20, 72, 1.77)\n",
    "matricula = Academia(aluno1)\n",
    "matricula.registro()"
   ]
  }
 ],
 "metadata": {
  "kernelspec": {
   "display_name": "Python 3",
   "language": "python",
   "name": "python3"
  },
  "language_info": {
   "codemirror_mode": {
    "name": "ipython",
    "version": 3
   },
   "file_extension": ".py",
   "mimetype": "text/x-python",
   "name": "python",
   "nbconvert_exporter": "python",
   "pygments_lexer": "ipython3",
   "version": "3.12.9"
  }
 },
 "nbformat": 4,
 "nbformat_minor": 2
}
