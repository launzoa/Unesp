{
 "cells": [
  {
   "cell_type": "code",
   "execution_count": null,
   "metadata": {},
   "outputs": [
    {
     "name": "stdout",
     "output_type": "stream",
     "text": [
      "Deposito feito com sucesso!\n",
      "Saque feito com sucesso\n",
      "Não é possível realizar o saque. O saldo insuficiente\n",
      "Nome: Luã, Saldo: 300\n"
     ]
    }
   ],
   "source": [
    "'''\n",
    "3) Um banco mantém contas de clientes armazenando o número da conta, o nome do\n",
    "cliente e o saldo atual da conta. Os clientes podem depositar o quanto quiserem nas contas,\n",
    "mas podem sacar somente enquanto a conta possuir saldo positivo.\n",
    "'''\n",
    "\n",
    "from dataclasses import dataclass\n",
    "\n",
    "@dataclass\n",
    "class Conta:\n",
    "    numero: int\n",
    "    nome: str\n",
    "    saldo: float\n",
    "\n",
    "\n",
    "class Banco:\n",
    "\n",
    "    def __init__(self, cliente):\n",
    "        self.cliente = cliente\n",
    "\n",
    "\n",
    "    def __str__(self):\n",
    "        return f\"Nome: {self.cliente.nome}, Saldo: {self.cliente.saldo}\"\n",
    "    \n",
    "    def depositar(self, valor):\n",
    "\n",
    "        self.cliente.saldo += valor\n",
    "        print(\"Deposito feito com sucesso!\")\n",
    "\n",
    "    def sacar(self, valor):\n",
    "\n",
    "        if (valor > self.cliente.saldo):\n",
    "            print(\"Não é possível realizar o saque. O saldo é insuficiente\")\n",
    "\n",
    "        else:\n",
    "            self.cliente.saldo -= valor\n",
    "            print(\"Saque feito com sucesso\") \n",
    "            \n",
    "\n",
    "cliente1 = Conta(23, \"Luã\", 1000)\n",
    "conta1 = Banco(cliente1)\n",
    "conta1.depositar(500)\n",
    "conta1.sacar(1200)\n",
    "conta1.sacar(1000)\n",
    "\n",
    "print(conta1)"
   ]
  }
 ],
 "metadata": {
  "kernelspec": {
   "display_name": "Python 3",
   "language": "python",
   "name": "python3"
  },
  "language_info": {
   "codemirror_mode": {
    "name": "ipython",
    "version": 3
   },
   "file_extension": ".py",
   "mimetype": "text/x-python",
   "name": "python",
   "nbconvert_exporter": "python",
   "pygments_lexer": "ipython3",
   "version": "3.12.9"
  }
 },
 "nbformat": 4,
 "nbformat_minor": 2
}
