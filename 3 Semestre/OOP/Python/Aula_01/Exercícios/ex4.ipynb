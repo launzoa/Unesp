{
 "cells": [
  {
   "cell_type": "code",
   "execution_count": 6,
   "metadata": {},
   "outputs": [
    {
     "name": "stdout",
     "output_type": "stream",
     "text": [
      "Lista cheia, impossível adicionar\n",
      "Elemento não está presente na lista\n",
      "1\n",
      "4\n",
      "5\n"
     ]
    }
   ],
   "source": [
    "'''\n",
    "4) A Lista é uma estrutura de dados que pode ser representada computacionalmente de\n",
    "diferentes maneiras, por exemplo, um vetor, uma lista encadeada dinâmica, uma árvore,\n",
    "um hash, entre outras maneiras. A Lista, genericamente, pode ser vista como um tipo\n",
    "abstrato de dados em que as operações são conhecidas e comuns a qualquer tipo de\n",
    "implementação ou representação computacional. Faça a modelagem Orientada a Objetos\n",
    "do tipo abstrato de dados de uma Lista, a qual possui elementos armazenados e as\n",
    "seguintes operações: inicializar lista, verificar se lista está vazia, verificar se a lista está\n",
    "cheia, adicionar um elemento, recuperar um elemento, remover um elemento.\n",
    "'''\n",
    "\n",
    "class Lista:\n",
    "\n",
    "    def __init__(self, lista, max):\n",
    "        self.lista = lista\n",
    "        self.tamanho = len(self.lista)\n",
    "        self.max = max\n",
    "\n",
    "    def empty(self):\n",
    "        \n",
    "        if self.tamanho > 0:\n",
    "            return False\n",
    "        else:\n",
    "            return True\n",
    "\n",
    "\n",
    "    def full(self):\n",
    "\n",
    "        if self.tamanho == self.max:\n",
    "            return True\n",
    "        else:\n",
    "            return False\n",
    "\n",
    "\n",
    "    def add(self, item):\n",
    "\n",
    "        if self.full():\n",
    "            print(\"Lista cheia, impossível adicionar\")\n",
    "        else:\n",
    "            self.lista.append(item)\n",
    "            self.tamanho += 1\n",
    "\n",
    "    \n",
    "    def __getitem__(self, idx):\n",
    "\n",
    "        return self.lista[idx]\n",
    "\n",
    "    \n",
    "    def remove(self, value):\n",
    "\n",
    "        if isinstance(value, int):\n",
    "            self.lista.pop(value)\n",
    "        \n",
    "        else:\n",
    "            if(value in self.lista):\n",
    "                self.lista.remove(value)\n",
    "            else:\n",
    "                print(\"Elemento não está presente na lista\")\n",
    "\n",
    "\n",
    "\n",
    "lista = [\"1\",\"2\",\"3\",\"4\"]\n",
    "\n",
    "l1 = Lista(lista, 5)\n",
    "l1.empty()\n",
    "l1.add(\"5\")\n",
    "l1.add(\"6\")\n",
    "l1.remove(1)\n",
    "l1.remove(\"3\")\n",
    "l1.remove(\"10\")\n",
    "\n",
    "for i in range(0, len(l1.lista)):\n",
    "    print(l1[i])"
   ]
  },
  {
   "cell_type": "code",
   "execution_count": null,
   "metadata": {},
   "outputs": [],
   "source": []
  }
 ],
 "metadata": {
  "kernelspec": {
   "display_name": "Python 3",
   "language": "python",
   "name": "python3"
  },
  "language_info": {
   "codemirror_mode": {
    "name": "ipython",
    "version": 3
   },
   "file_extension": ".py",
   "mimetype": "text/x-python",
   "name": "python",
   "nbconvert_exporter": "python",
   "pygments_lexer": "ipython3",
   "version": "3.12.9"
  }
 },
 "nbformat": 4,
 "nbformat_minor": 2
}
