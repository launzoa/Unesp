{
 "cells": [
  {
   "cell_type": "code",
   "execution_count": 64,
   "metadata": {},
   "outputs": [
    {
     "name": "stdout",
     "output_type": "stream",
     "text": [
      "docente: [('Luã', 'Ciências exatas'), ('Fábio', 'Ciências exatas')]\n"
     ]
    }
   ],
   "source": [
    "'''\n",
    "5) A FCT/Unesp é organizada por vários departamentos de ensino e cada um deles é\n",
    "composto por docentes. Um docente só pode pertencer a um único departamento.\n",
    "Desenvolva uma modelagem para ilustrar a organização das classes para um programa\n",
    "orientado a objetos que contemple a estrutura organizacional da FCT/Unesp.\n",
    "Da universidade é necessário armazenar somente o nome e os departamentos.\n",
    "Os dados que deverão ser armazenados para o departamento são: Código, Nome,\n",
    "Telefone, Funcionários.\n",
    "Os dados que deverão ser armazenados para o funcionário são: Código, Nome, Função,\n",
    "Salário\n",
    "'''\n",
    "from dataclasses import dataclass\n",
    "        \n",
    "\n",
    "@dataclass\n",
    "class Departamento:\n",
    "    codigo: int\n",
    "    nome: str\n",
    "    telefone: int\n",
    "    funcionarios: list\n",
    "\n",
    "    def add(self, funcionario):\n",
    "        self.funcionarios.append(funcionario)\n",
    "    \n",
    "    def listar_funcionarios(self):\n",
    "        return self.funcionarios\n",
    "\n",
    "@dataclass\n",
    "class Funcionario:\n",
    "    codigo: int\n",
    "    nome: str\n",
    "    funcao: str\n",
    "    salario: float\n",
    "\n",
    "@dataclass\n",
    "class Docente():\n",
    "    funcionario: Funcionario\n",
    "    departamento: Departamento\n",
    "\n",
    "    def __str__(self):\n",
    "        return f\"Nome: {self.funcionario.nome}, Departamento: {self.departamento.nome}\"\n",
    "\n",
    "\n",
    "class Fct():\n",
    "    docente = []\n",
    "\n",
    "    def __init__(self, docente: object):\n",
    "        \n",
    "        self.docente.append((docente.funcionario.nome, docente.departamento.nome))\n",
    "\n",
    "    def __str__(self):\n",
    "        return f\"docente: {self.docente}\"\n",
    "    \n",
    "    def zerar_docentes(self):\n",
    "        self.docente.clear()\n",
    "\n",
    "\n",
    "fun_1 = Funcionario(1, \"Luã\", \"Programador\", 1000)\n",
    "fun_2 = Funcionario(2, \"Fábio\", \"Gerente\", 2000)\n",
    "\n",
    "dep_1 = Departamento(101, \"Ciências exatas\", 1234, [])\n",
    "dep_1.add(fun_1)\n",
    "dep_1.add(fun_2)\n",
    "\n",
    "doc_1 = Docente(fun_1, dep_1)\n",
    "doc_2 = Docente(fun_2, dep_1)\n",
    "\n",
    "fc = Fct(doc_1)\n",
    "fc = Fct(doc_2)\n",
    "\n",
    "\n",
    "print(fc)\n"
   ]
  }
 ],
 "metadata": {
  "kernelspec": {
   "display_name": "Python 3",
   "language": "python",
   "name": "python3"
  },
  "language_info": {
   "codemirror_mode": {
    "name": "ipython",
    "version": 3
   },
   "file_extension": ".py",
   "mimetype": "text/x-python",
   "name": "python",
   "nbconvert_exporter": "python",
   "pygments_lexer": "ipython3",
   "version": "3.12.9"
  }
 },
 "nbformat": 4,
 "nbformat_minor": 2
}
